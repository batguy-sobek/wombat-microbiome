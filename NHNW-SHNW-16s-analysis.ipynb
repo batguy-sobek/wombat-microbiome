{
 "cells": [
  {
   "cell_type": "code",
   "execution_count": null,
   "id": "b9e697ab-49f6-4a69-9615-3637acc736be",
   "metadata": {},
   "outputs": [],
   "source": [
    "## analysing 16s faecal microbiome data from wombat scat samples using Qiime2. (V2024.2)"
   ]
  },
  {
   "cell_type": "code",
   "execution_count": null,
   "id": "2e66fea3-04aa-4cfd-a55b-67fc71f0cd60",
   "metadata": {},
   "outputs": [],
   "source": [
    "## first we will import our data using the import manifest method. "
   ]
  },
  {
   "cell_type": "code",
   "execution_count": null,
   "id": "89c9d742-cec9-491d-8d27-6d8d78c81d74",
   "metadata": {},
   "outputs": [],
   "source": [
    "## we only imported the R1 sequences following DOI: 10.1128/AEM.00062-07 (figure 1)"
   ]
  },
  {
   "cell_type": "code",
   "execution_count": null,
   "id": "05225925-210e-496c-a5d0-2d17d5d076ee",
   "metadata": {},
   "outputs": [],
   "source": [
    "qiime tools import \\\n",
    "--type 'SampleData[SequencesWithQuality]' \\\n",
    "--input-path /hpcfs/users/a1805545/16s_reads/import-manifest-11072024.tsv \\\n",
    "--output-path /hpcfs/users/a1805545/16s_reads/qiime_output/NHNW_SHNW_all_16s.qza \\\n",
    "--input-format SingleEndFastqManifestPhred33V2 "
   ]
  },
  {
   "cell_type": "code",
   "execution_count": null,
   "id": "2726aca5-589e-4b82-a3c5-9c72748dbc88",
   "metadata": {},
   "outputs": [],
   "source": [
    "## once imported we will use the deblur method to generate features (OTU's/ASV's)\n",
    "## set the trim length "
   ]
  },
  {
   "cell_type": "code",
   "execution_count": null,
   "id": "7f880476-a4aa-4f6e-a54f-39ef43739fe3",
   "metadata": {},
   "outputs": [],
   "source": [
    "qiime deblur denoise-16S \\\n",
    "--i-demultiplexed-seqs /hpcfs/users/a1805545/16s_reads/qiime_output/NHNW_all_16s.qza \\\n",
    "--p-trim-length 150 \\\n",
    "--p-sample-stats \\\n",
    "--o-representative-sequences /hpcfs/users/a1805545/16s_reads/qiime_output/NHNW-faecal-rep-seqs.qza \\\n",
    "--o-table /hpcfs/users/a1805545/16s_reads/qiime_output/NHNW-faecal-table.qza \\\n",
    "--o-stats /hpcfs/users/a1805545/16s_reads/qiime_output/NHNW-faecal-deblur-stats.qza \\\n",
    "--verbose "
   ]
  },
  {
   "cell_type": "code",
   "execution_count": null,
   "id": "c12cde29-15ee-4ee6-8463-508c2bcefc0a",
   "metadata": {},
   "outputs": [],
   "source": [
    "## then we will visualize the results"
   ]
  },
  {
   "cell_type": "code",
   "execution_count": null,
   "id": "edb71413-fc9d-43cc-a605-22a1fbdb6f90",
   "metadata": {},
   "outputs": [],
   "source": [
    "qiime feature-table tabulate-seqs \\\n",
    "--i-data /hpcfs/users/a1805545/16s_reads/qiime_output/NHNW-SHNW-faecal-rep-seqs.qza\\\n",
    "--o-visualization /hpcfs/users/a1805545/16s_reads/qiime_output/NHNW-SHNW-faecal-rep-seqs.qzv"
   ]
  },
  {
   "cell_type": "code",
   "execution_count": null,
   "id": "fbffa339-d34a-4410-894b-38d0b0f84c57",
   "metadata": {},
   "outputs": [],
   "source": [
    "qiime feature-table summarize \\\n",
    "--i-table /hpcfs/users/a1805545/16s_reads/qiime_output/NHNW-faecal-table.qza \\\n",
    "--o-visualization /hpcfs/users/a1805545/16s_reads/qiime_output/NHNW-faecal-table.qzv"
   ]
  },
  {
   "cell_type": "code",
   "execution_count": null,
   "id": "e10e9302-8073-4a3c-8abf-83a0ac609d88",
   "metadata": {},
   "outputs": [],
   "source": [
    "## following this we created a phylogenetic tree using SEPP."
   ]
  },
  {
   "cell_type": "code",
   "execution_count": null,
   "id": "3fc09a06-1c04-4caa-8fee-dace35661bf0",
   "metadata": {},
   "outputs": [],
   "source": [
    "qiime fragment-insertion sepp \\\n",
    "--i-representative-sequences /hpcfs/users/a1805545/16s_reads/qiime_output/NHNW-SHNW-faecal-rep-seqs.qza \\\n",
    "--i-reference-database /hpcfs/users/a1805545/16s_reads/classifier/sepp-refs-silva-128.qza \\\n",
    "--o-tree /hpcfs/users/a1805545/16s_reads/qiime_output/NHNW-SHNW-faecal-sepp-tree.qza \\\n",
    "--o-placements /hpcfs/users/a1805545/16s_reads/qiime_output/NHNW-SHNW-faecal-sepp-placements.qza \\\n",
    "--verbose \n"
   ]
  },
  {
   "cell_type": "code",
   "execution_count": null,
   "id": "d613d3de-5842-44bb-a7b5-4d5db2571950",
   "metadata": {},
   "outputs": [],
   "source": [
    "## next we mapped our reads to the tree and removed any that didnt map."
   ]
  },
  {
   "cell_type": "code",
   "execution_count": null,
   "id": "bd1c4a7b-ab7a-48dc-8388-09ec4f4cc744",
   "metadata": {},
   "outputs": [],
   "source": [
    "qiime fragment-insertion filter-features \\\n",
    "  --i-table /hpcfs/users/a1805545/16s_reads/qiime_output/NHNW-SHNW-faecal-table.qza \\\n",
    "  --i-tree /hpcfs/users/a1805545/16s_reads/qiime_output/NHNW-SHNW-faecal-sepp-tree.qza \\\n",
    "  --o-filtered-table /hpcfs/users/a1805545/16s_reads/qiime_output/NHNW-SHNW-faecal-filtered-table.qza \\\n",
    "  --o-removed-table /hpcfs/users/a1805545/16s_reads/qiime_output/NHNW-SHNW-faecal-removed-table.qza \\\n",
    "  --verbose"
   ]
  },
  {
   "cell_type": "code",
   "execution_count": null,
   "id": "4455239e-5c2d-424e-8456-dcd6bef27092",
   "metadata": {},
   "outputs": [],
   "source": [
    "## all features mapped so we will use the unfiltered table."
   ]
  },
  {
   "cell_type": "code",
   "execution_count": null,
   "id": "c1d33b50-cd70-42fd-92b9-31963875ce87",
   "metadata": {},
   "outputs": [],
   "source": [
    "## now we will perform an alpha rarefaction to determine an appropriate sampling depth."
   ]
  },
  {
   "cell_type": "code",
   "execution_count": null,
   "id": "e3e554b3-6e80-4ed2-969f-7ce35c3304b5",
   "metadata": {},
   "outputs": [],
   "source": [
    "qiime diversity alpha-rarefaction \\\n",
    "--i-table /hpcfs/users/a1805545/16s_reads/qiime_output/NHNW-SHNW-faecal-table.qza \\\n",
    "--m-metadata-file /hpcfs/users/a1805545/16s_reads/metadata.txt \\\n",
    "--o-visualization NHNW-SHNW-faecal-table-rarefaction.qzv \\\n",
    "--p-max-depth 56000 "
   ]
  },
  {
   "cell_type": "code",
   "execution_count": null,
   "id": "042d1966-918a-40b9-805d-44eea07bcb42",
   "metadata": {},
   "outputs": [],
   "source": [
    "## Looks like 25K is where most samples level out will use that as our sampling depth."
   ]
  },
  {
   "cell_type": "code",
   "execution_count": null,
   "id": "a32104aa-1d5f-41a7-aca7-dbb0f4c590e0",
   "metadata": {},
   "outputs": [],
   "source": [
    "## Now we will reove samples following the SHNW 16s analysis, soil and NTCs."
   ]
  },
  {
   "cell_type": "code",
   "execution_count": null,
   "id": "f719775e-939f-4668-970c-32142c7068ee",
   "metadata": {},
   "outputs": [],
   "source": [
    "qiime feature-table filter-samples \\\n",
    "--i-table  /hpcfs/users/a1805545/16s_reads/qiime_output/NHNW-SHNW-faecal-table.qza \\\n",
    "--m-metadata-file /hpcfs/users/a1805545/16s_reads/metadata.txt \\\n",
    "--p-where \"Species IN ('Soil', 'NTC')\" \\\n",
    "--p-exclude-ids \\\n",
    "--o-filtered-table /hpcfs/users/a1805545/16s_reads/qiime_output/NHNW-SHNW-faecal-table-no-soil.qza"
   ]
  },
  {
   "cell_type": "code",
   "execution_count": null,
   "id": "3c44163a-23d4-49c4-b7c1-163e46aa3486",
   "metadata": {},
   "outputs": [],
   "source": [
    "## now we will remove any samples that dont have atleast 25K reads. "
   ]
  },
  {
   "cell_type": "code",
   "execution_count": null,
   "id": "f206c999-41a4-4e47-8425-de45310c337a",
   "metadata": {},
   "outputs": [],
   "source": [
    "qiime feature-table filter-samples \\\n",
    "--i-table /hpcfs/users/a1805545/16s_reads/qiime_output/NHNW-SHNW-faecal-table-no-soil.qza \\\n",
    "--m-metadata-file /hpcfs/users/a1805545/16s_reads/metadata.txt \\\n",
    "--p-min-frequency 25000 \\\n",
    "--o-filtered-table NHNW-SHNW-faecal-table-no-soil-atleast-25000-reads.qza"
   ]
  },
  {
   "cell_type": "code",
   "execution_count": 1,
   "id": "d8dd8109-8a5e-4d11-a865-606fa629f864",
   "metadata": {},
   "outputs": [],
   "source": [
    "## convert the table to viewable to make sure everything has been removed correctly. "
   ]
  },
  {
   "cell_type": "code",
   "execution_count": null,
   "id": "30f82c87-6c03-4399-9d92-f97fdeeb885b",
   "metadata": {},
   "outputs": [],
   "source": [
    "qiime feature-table summarize \\\n",
    "--i-table /hpcfs/users/a1805545/16s_reads/qiime_output/NHNW-SHNW-faecal-table-no-soil-atleast-25000-reads.qza \\\n",
    "--o-visualization /hpcfs/users/a1805545/16s_reads/qiime_output/NHNW-SHNW-faecal-table-no-soil-atleast-25000-reads.qzv \\"
   ]
  },
  {
   "cell_type": "code",
   "execution_count": null,
   "id": "d8fde3a9-cb03-433f-afe5-3a3150642741",
   "metadata": {},
   "outputs": [],
   "source": [
    "## next we will assign taxonomy using SKlearn and the SILVA database. "
   ]
  },
  {
   "cell_type": "code",
   "execution_count": null,
   "id": "dc9ca1d4-43a7-42e0-8a9c-ceda13168916",
   "metadata": {},
   "outputs": [],
   "source": [
    "qiime feature-classifier classify-sklearn \\\n",
    "--i-reads /hpcfs/users/a1805545/16s_reads/qiime_output/NHNW-SHNW-faecal-rep-seqs.qza \\\n",
    "--i-classifier /hpcfs/users/a1805545/16s_reads/classifier/silva-139-99-515-806-classifier.qza \\\n",
    "--o-classification /hpcfs/users/a1805545/16s_reads/qiime_output/NHNW-SHNE-22-23-SILVA-taxa.qza"
   ]
  },
  {
   "cell_type": "code",
   "execution_count": null,
   "id": "45afab73-4853-4a00-9e8c-0cea83620ef2",
   "metadata": {},
   "outputs": [],
   "source": [
    "## we will make a barplot with the taxa assignments."
   ]
  },
  {
   "cell_type": "code",
   "execution_count": null,
   "id": "d8c95019-4ab7-46d8-aa7d-c67c294bb3c3",
   "metadata": {},
   "outputs": [],
   "source": [
    "qiime taxa barplot \\\n",
    "--i-table /hpcfs/users/a1805545/16s_reads/qiime_output/NHNW-SHNW-faecal-table-no-soil-atleast-25000-reads.qza \\\n",
    "--i-taxonomy /hpcfs/users/a1805545/16s_reads/qiime_output/NHNW-SHNW-22-23-SILVA-taxa.qza \\\n",
    "--m-metadata-file /hpcfs/users/a1805545/16s_reads/metadata.txt \\\n",
    "--o-visualization /hpcfs/users/a1805545/16s_reads/qiime_output/NHNW-SHNW-22-23-SILVA-taxa-Barplot-25000-reads.qzv"
   ]
  },
  {
   "cell_type": "code",
   "execution_count": null,
   "id": "78ec176f-6f6e-4168-8fa3-d30ef72dac8c",
   "metadata": {},
   "outputs": [],
   "source": [
    "## next we will remove duplicates, joey and contaminated samples, according to the SHNW 16s analysis"
   ]
  },
  {
   "cell_type": "code",
   "execution_count": null,
   "id": "23583739-d430-4027-b6be-90dab054f603",
   "metadata": {},
   "outputs": [],
   "source": [
    "qiime feature-table filter-samples \\\n",
    "--i-table /hpcfs/users/a1805545/16s_reads/qiime_output/NHNW-SHNW-faecal-table-no-soil-atleast-25000-reads.qza \\\n",
    "--m-metadata-file /hpcfs/users/a1805545/16s_reads/metadata.txt \\\n",
    "--p-where  \"name IN ('B10-SRR12658844', 'B11-SRR12658843', 'B13-SRR12658841', 'B14-SRR12658840', 'B15-SRR12658839', 'B16-SRR12658838', 'B17-SRR12658837', 'M7b-SRR12658823', 'M6-SRR12658826', 'M14-SRR12658813', 'M1b-SRR12658834', 'M1c-SRR12658833', 'M3b-SRR12658830', 'M4b-SRR12658828', 'M9b-SRR12658820')\" \\\n",
    "--p-exclude-ids \\\n",
    "--o-filtered-table /hpcfs/users/a1805545/16s_reads/qiime_output/NHNW-SHNW-final-faecal-table-no-soil-atleast-25000-reads.qza"
   ]
  },
  {
   "cell_type": "code",
   "execution_count": 3,
   "id": "e7c3c3b7-bedb-4b34-b9a6-f601fe688a33",
   "metadata": {},
   "outputs": [],
   "source": [
    "## now we will make new barplots with samples removed."
   ]
  },
  {
   "cell_type": "code",
   "execution_count": null,
   "id": "aae9dcf7-26de-4474-b5d2-54014acc56f9",
   "metadata": {},
   "outputs": [],
   "source": [
    "qiime taxa barplot \\\n",
    "--i-table /hpcfs/users/a1805545/16s_reads/qiime_output/NHNW-SHNW-final-faecal-table-no-soil-atleast-25000-reads.qza \\\n",
    "--i-taxonomy /hpcfs/users/a1805545/16s_reads/qiime_output/NHNW-SHNW-22-23-SILVA-taxa.qza \\\n",
    "--m-metadata-file /hpcfs/users/a1805545/16s_reads/metadata.txt \\\n",
    "--o-visualization /hpcfs/users/a1805545/16s_reads/qiime_output/NHNW-SHNW-final-faecal-barplot-no-soil-atleast-25000-reads.qzv"
   ]
  },
  {
   "cell_type": "code",
   "execution_count": 4,
   "id": "46551ab5-ac27-4313-989c-5a3d08dce168",
   "metadata": {},
   "outputs": [],
   "source": [
    "# lets collapse the table into populations to get an idea of larger trends. "
   ]
  },
  {
   "cell_type": "code",
   "execution_count": null,
   "id": "13ac256a-43a6-4731-b128-7d0bb9bb6afc",
   "metadata": {},
   "outputs": [],
   "source": [
    "qiime feature-table group \\\n",
    "--i-table /hpcfs/users/a1805545/16s_reads/qiime_output/NHNW-SHNW-final-faecal-table-no-soil-atleast-25000-reads.qza \\\n",
    "--m-metadata-file /hpcfs/users/a1805545/16s_reads/metadata.txt \\\n",
    "--m-metadata-column cluster \\\n",
    "--p-mode mean-ceiling \\\n",
    "--p-axis sample \\\n",
    "--o-grouped-table /hpcfs/users/a1805545/16s_reads/qiime_output/NHNW-SHNW-final-faecal-table-cluster.qza"
   ]
  },
  {
   "cell_type": "code",
   "execution_count": null,
   "id": "db7a316f-4203-40d8-a930-e82adade70ae",
   "metadata": {},
   "outputs": [],
   "source": [
    "## Make barplots of the clusters - note 14/08/2024 remake metadata file so it corresponds to the condensed table."
   ]
  },
  {
   "cell_type": "code",
   "execution_count": null,
   "id": "22a9e686-dbda-48d5-a00f-90b3c5c115eb",
   "metadata": {},
   "outputs": [],
   "source": [
    "qiime taxa barplot \\\n",
    "--i-table /hpcfs/users/a1805545/16s_reads/qiime_output/NHNW-SHNW-final-faecal-table-cluster.qza \\\n",
    "--i-taxonomy /hpcfs/users/a1805545/16s_reads/qiime_output/NHNW-SHNW-22-23-SILVA-taxa.qza \\\n",
    "--m-metadata-file /hpcfs/users/a1805545/16s_reads/metadata.txt \\\n",
    "--o-visualization /hpcfs/users/a1805545/16s_reads/qiime_output/NHNW-SHNW-final-cluster-faecal-barplot-no-soil-atleast-25000-reads.qzv"
   ]
  }
 ],
 "metadata": {
  "kernelspec": {
   "display_name": "Python 3 (ipykernel)",
   "language": "python",
   "name": "python3"
  },
  "language_info": {
   "codemirror_mode": {
    "name": "ipython",
    "version": 3
   },
   "file_extension": ".py",
   "mimetype": "text/x-python",
   "name": "python",
   "nbconvert_exporter": "python",
   "pygments_lexer": "ipython3",
   "version": "3.9.12"
  }
 },
 "nbformat": 4,
 "nbformat_minor": 5
}
